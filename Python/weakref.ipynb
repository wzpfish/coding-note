{
 "cells": [
  {
   "cell_type": "markdown",
   "metadata": {},
   "source": [
    "# Introduction\n",
    "\n",
    "python document的解释：A weak reference to an object is not enough to keep the object alive: when the only remaining references to a referent are weak references, garbage collection is free to destroy the referent and reuse its memory for something else. However, until the object is actually destroyed the weak reference may return the object even if there are no strong references to it.\n",
    "\n",
    "也就是说，当一个对象仅有一个weak reference指向它的时候，python的gc可以随意地销毁该对象。\n",
    "\n",
    "## 1. weakref.WeakValueDictionary, WeakKeyDictionary, WeakSet\n",
    "因此，weak reference 的主要用处是实现cache，即当一个对象不用的时候，cache里可以不保存这个对象。为了方便weak reference cache的实现，`weakref`模块提供了几个比较方便的collection，如：`WeakKeyDictionary`, `WeakValueDictionary`, `WeakSet`。\n",
    "\n",
    "举个例子："
   ]
  },
  {
   "cell_type": "code",
   "execution_count": 12,
   "metadata": {},
   "outputs": [
    {
     "name": "stdout",
     "output_type": "stream",
     "text": [
      "2\n",
      "2\n"
     ]
    }
   ],
   "source": [
    "class BigData:\n",
    "    pass\n",
    "    \n",
    "d = dict()\n",
    "\n",
    "def test():\n",
    "    b1 = BigData()\n",
    "    d[\"b1\"] = b1\n",
    "    b2 = BigData()\n",
    "    d[\"b2\"] = b2\n",
    "    print(len(d)) # 2\n",
    "\n",
    "test()\n",
    "print(len(d)) # 2"
   ]
  },
  {
   "cell_type": "code",
   "execution_count": 11,
   "metadata": {},
   "outputs": [
    {
     "name": "stdout",
     "output_type": "stream",
     "text": [
      "2\n",
      "0\n"
     ]
    }
   ],
   "source": [
    "from weakref import WeakValueDictionary\n",
    "\n",
    "class BigData:\n",
    "    pass\n",
    "    \n",
    "d = WeakValueDictionary()\n",
    "\n",
    "def test():\n",
    "    b1 = BigData()\n",
    "    d[\"b1\"] = b1\n",
    "    b2 = BigData()\n",
    "    d[\"b2\"] = b2\n",
    "    print(len(d)) # 2\n",
    "    # gc销毁b1和b2\n",
    "\n",
    "test()\n",
    "print(len(d)) # 2"
   ]
  },
  {
   "cell_type": "markdown",
   "metadata": {},
   "source": [
    "## 2. weakref.ref\n",
    "可以发现，对于一个普通的dict，就算没有变量引用dict中的value，这个value也不会被gc销毁，因为普通dict里对于对象的引用不是weak reference。而对于`WeakValueDictionary`，一旦没有变量引用字典中的value的时候，gc就会把字典中的key-value pair销毁。\n",
    "\n",
    "一般来说，用这几个collection足够支撑大部分的应用场景了，不过`weakref`模板也提供了一些low-level的方法，用户可以自己创建一个对象的weak reference，通过`weakref.ref(object[, callback])`方法。\n",
    "\n",
    "例如下面例子，`weakref.ref`创建一个ref对象。当它reference的对象活着的时候，调用r()返回它指向的对象；当对象b被销毁的时候，r的callback方法被调用，且调用r()返回None："
   ]
  },
  {
   "cell_type": "code",
   "execution_count": 45,
   "metadata": {},
   "outputs": [
    {
     "name": "stdout",
     "output_type": "stream",
     "text": [
      "3\n",
      "<weakref at 0x0000021923379F98; dead> destroyed\n",
      "None\n"
     ]
    }
   ],
   "source": [
    "import weakref\n",
    "\n",
    "class BigData:\n",
    "    def __init__(self, value):\n",
    "        self.value = value\n",
    "\n",
    "def test():\n",
    "    b = BigData(3)\n",
    "    r = weakref.ref(b, lambda ref: print(f\"{ref} destroyed\"))\n",
    "    print(r().value)\n",
    "    del b\n",
    "    print(r())\n",
    "\n",
    "test()"
   ]
  },
  {
   "cell_type": "markdown",
   "metadata": {},
   "source": [
    "## 3. weakref.finalize\n",
    "\n",
    "finalize的主要好处是可以很方便地为一个对象的销毁创建一个callback函数（不用保存finalize的返回值，ref必须保存返回值）。\n",
    "\n",
    "比如下面例子，"
   ]
  },
  {
   "cell_type": "code",
   "execution_count": 3,
   "metadata": {},
   "outputs": [
    {
     "name": "stdout",
     "output_type": "stream",
     "text": [
      "destroyed in test_finalize\n"
     ]
    }
   ],
   "source": [
    "import weakref\n",
    "\n",
    "class BigData:\n",
    "    def __init__(self, value):\n",
    "        self.value = value\n",
    "\n",
    "def test_ref():\n",
    "    b = BigData(3)\n",
    "    weakref.ref(b, lambda ref: print(f\"destroyed in test_ref\"))\n",
    "    del b\n",
    "\n",
    "def test_finalize():\n",
    "    b = BigData(3)\n",
    "    weakref.finalize(b, lambda: print(f\"destroyed in test_finalize\"))\n",
    "    del b\n",
    "    \n",
    "test_ref()\n",
    "test_finalize()"
   ]
  },
  {
   "cell_type": "markdown",
   "metadata": {},
   "source": [
    "finalizer还有一个好处是可以用来实现资源回收，例如："
   ]
  },
  {
   "cell_type": "code",
   "execution_count": 57,
   "metadata": {},
   "outputs": [
    {
     "name": "stdout",
     "output_type": "stream",
     "text": [
      "C:\\Users\\zhipwang\\AppData\\Local\\Temp\\2\\tmp_juwqrhz\n",
      "removing C:\\Users\\zhipwang\\AppData\\Local\\Temp\\2\\tmp_juwqrhz..\n"
     ]
    }
   ],
   "source": [
    "import weakref\n",
    "import tempfile\n",
    "import shutil\n",
    "\n",
    "def rmtree(name):\n",
    "    print(f\"removing {name}..\")\n",
    "    shutil.rmtree(name)\n",
    "    \n",
    "class TempDir:\n",
    "    def __init__(self):\n",
    "        self.name = tempfile.mkdtemp()\n",
    "        self._finalizer = weakref.finalize(self, rmtree, self.name)\n",
    "\n",
    "    def remove(self):\n",
    "        self._finalizer()\n",
    "\n",
    "    @property\n",
    "    def removed(self):\n",
    "        return not self._finalizer.alive\n",
    "\n",
    "        \n",
    "def test():\n",
    "    temp = TempDir()\n",
    "    print(temp.name)\n",
    "    \n",
    "test()"
   ]
  }
 ],
 "metadata": {
  "kernelspec": {
   "display_name": "Python 3",
   "language": "python",
   "name": "python3"
  },
  "language_info": {
   "codemirror_mode": {
    "name": "ipython",
    "version": 3
   },
   "file_extension": ".py",
   "mimetype": "text/x-python",
   "name": "python",
   "nbconvert_exporter": "python",
   "pygments_lexer": "ipython3",
   "version": "3.6.6"
  }
 },
 "nbformat": 4,
 "nbformat_minor": 2
}
