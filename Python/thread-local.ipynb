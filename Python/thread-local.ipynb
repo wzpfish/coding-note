{
 "cells": [
  {
   "cell_type": "markdown",
   "metadata": {},
   "source": [
    "# Introduction\n",
    "\n",
    "## 1. threading.local 对象\n",
    "\n",
    "在 Python 多线程编程中，可能会用到线程自己的局部变量，这些变量期望对其它线程不可见。一种优雅的方法是使用`threading.local`类。\n",
    "\n",
    "在线程中定义到该类的变量，只对该线程可见。\n",
    "\n",
    "如下例子："
   ]
  },
  {
   "cell_type": "code",
   "execution_count": 36,
   "metadata": {},
   "outputs": [
    {
     "name": "stdout",
     "output_type": "stream",
     "text": [
      "main-thread\n",
      "None\n"
     ]
    }
   ],
   "source": [
    "import threading\n",
    "\n",
    "local = threading.local()\n",
    "\n",
    "def run_on_thread():\n",
    "    x = getattr(local, \"x\", None)\n",
    "    print(x)\n",
    "    local.x = \"sub-thread\"\n",
    "    \n",
    "local.x = \"main-thread\"\n",
    "print(local.x)\n",
    "t = threading.Thread(target=run_on_thread)\n",
    "t.start()\n",
    "t.join()\n"
   ]
  },
  {
   "cell_type": "markdown",
   "metadata": {},
   "source": [
    "从上面例子可以看出，主线程中保存在`local`的变量`x`在子线程中并不可见。同样，修改子线程中的`x`并不影响主线程的变量。这个全局local变量用起来就像是每个线程自己的局部变量一样方便。\n",
    "\n",
    "`threading.local`是怎么实现的呢？ python lib 里的代码其实很简单。主要有两个类，一个是`_localimpl`类，一个是`local`类。\n",
    "\n",
    "其中，`_localimpl`类保存了一个字典，该字典的key是线程id，value是线程对象的weak reference以及为该线程创建的一个dict。因此，在一个线程中访问/保存local的属性的时候，其实访问/保存的是`_localimpl`中为该线程创建的dict。 这里不直接用`thread.__dict__`的原因估计是怕污染thread的`__dict__`。"
   ]
  },
  {
   "cell_type": "code",
   "execution_count": null,
   "metadata": {},
   "outputs": [],
   "source": [
    "class _localimpl:\n",
    "    \"\"\"A class managing thread-local dicts\"\"\"\n",
    "    __slots__ = 'key', 'dicts', 'localargs', 'locallock', '__weakref__'\n",
    "\n",
    "    def __init__(self):\n",
    "        # The key used in the Thread objects' attribute dicts.\n",
    "        # We keep it a string for speed but make it unlikely to clash with\n",
    "        # a \"real\" attribute.\n",
    "        self.key = '_threading_local._localimpl.' + str(id(self))\n",
    "        # { id(Thread) -> (ref(Thread), thread-local dict) }\n",
    "        self.dicts = {}\n",
    "\n",
    "    def get_dict(self):\n",
    "        \"\"\"Return the dict for the current thread. Raises KeyError if none\n",
    "        defined.\"\"\"\n",
    "        thread = current_thread()\n",
    "        return self.dicts[id(thread)][1]\n",
    "\n",
    "    def create_dict(self):\n",
    "        \"\"\"Create a new dict for the current thread, and return it.\"\"\"\n",
    "        localdict = {}\n",
    "        key = self.key\n",
    "        thread = current_thread()\n",
    "        idt = id(thread)\n",
    "        def local_deleted(_, key=key):\n",
    "            # When the localimpl is deleted, remove the thread attribute.\n",
    "            thread = wrthread()\n",
    "            if thread is not None:\n",
    "                del thread.__dict__[key]\n",
    "        def thread_deleted(_, idt=idt):\n",
    "            # When the thread is deleted, remove the local dict.\n",
    "            # Note that this is suboptimal if the thread object gets\n",
    "            # caught in a reference loop. We would like to be called\n",
    "            # as soon as the OS-level thread ends instead.\n",
    "            local = wrlocal()\n",
    "            if local is not None:\n",
    "                dct = local.dicts.pop(idt)\n",
    "        # 注册一个callback，当local被销毁的时候，线程中保存的local对象的ref就被删除。\n",
    "        wrlocal = ref(self, local_deleted)\n",
    "        # 注册一个callback，当thread被销毁的时候，local中保存的对应的线程字典就被删除。\n",
    "        wrthread = ref(thread, thread_deleted)\n",
    "        # 必须保存这个wrlocal，否则callback不会生效。\n",
    "        thread.__dict__[key] = wrlocal\n",
    "        self.dicts[idt] = wrthread, localdict\n",
    "        return localdict"
   ]
  },
  {
   "cell_type": "markdown",
   "metadata": {},
   "source": [
    "第二个类`threading.local`相当于一个代理类，当一个线程访问该类对象中的属性的时候，首先根据线程id拿到保存在`_localimpl`中该线程的dict。然后将该dict设置为`threading.local.__dict__`。这里设置的时候需要加锁（RLock），因为如果多个线程同时设置`threading.local.__dict__`的时候，不加锁可能会导致未知情况。"
   ]
  },
  {
   "cell_type": "code",
   "execution_count": null,
   "metadata": {},
   "outputs": [],
   "source": [
    "@contextmanager\n",
    "def _patch(self):\n",
    "    impl = object.__getattribute__(self, '_local__impl')\n",
    "    try:\n",
    "        dct = impl.get_dict()\n",
    "    except KeyError:\n",
    "        dct = impl.create_dict()\n",
    "        args, kw = impl.localargs\n",
    "        self.__init__(*args, **kw)\n",
    "    # 加锁以防止多个线程同时设置 local 的 __dict__，出现未知错误。\n",
    "    with impl.locallock:\n",
    "        object.__setattr__(self, '__dict__', dct)\n",
    "        yield\n",
    "\n",
    "\n",
    "class local:\n",
    "    __slots__ = '_local__impl', '__dict__'\n",
    "\n",
    "    def __new__(cls, *args, **kw):\n",
    "        if (args or kw) and (cls.__init__ is object.__init__):\n",
    "            raise TypeError(\"Initialization arguments are not supported\")\n",
    "        self = object.__new__(cls)\n",
    "        impl = _localimpl()\n",
    "        impl.localargs = (args, kw)\n",
    "        impl.locallock = RLock()\n",
    "        object.__setattr__(self, '_local__impl', impl)\n",
    "        # We need to create the thread dict in anticipation of\n",
    "        # __init__ being called, to make sure we don't call it\n",
    "        # again ourselves.\n",
    "        impl.create_dict()\n",
    "        return self\n",
    "\n",
    "    def __getattribute__(self, name):\n",
    "        with _patch(self):\n",
    "            return object.__getattribute__(self, name)\n",
    "\n",
    "    def __setattr__(self, name, value):\n",
    "        if name == '__dict__':\n",
    "            raise AttributeError(\n",
    "                \"%r object attribute '__dict__' is read-only\"\n",
    "                % self.__class__.__name__)\n",
    "        with _patch(self):\n",
    "            return object.__setattr__(self, name, value)\n",
    "\n",
    "    def __delattr__(self, name):\n",
    "        if name == '__dict__':\n",
    "            raise AttributeError(\n",
    "                \"%r object attribute '__dict__' is read-only\"\n",
    "                % self.__class__.__name__)\n",
    "        with _patch(self):\n",
    "            return object.__delattr__(self, name)\n"
   ]
  },
  {
   "cell_type": "markdown",
   "metadata": {},
   "source": [
    "## 2. Werkzeug 中的 Local 实现\n",
    "\n",
    "Werkzeug 是一个WSGI工具库，它里面也实现了一个Local对象，作者称自己实现的原因如下：\n",
    "1. Werkzeug 主要用“ThreadLocal”来满足并发的要求，python 自带的ThreadLocal只能实现基于线程的并发。而python中还有其他许多并发方式，比如常见的协程（greenlet），因此需要实现一种能够支持协程的Local对象。\n",
    "2. WSGI不保证每次都会产生一个新的线程来处理请求，也就是说线程是可以复用的（可以维护一个线程池来处理请求）。这样如果werkzeug 使用python自带的ThreadLocal，一个“不干净（存有之前处理过的请求的相关数据）”的线程会被用来处理新的请求。因此，作者希望可以自己清理Local对象中保存的内容。\n",
    "\n",
    "Werkzeug的Local实现非常简单，就是维护了一个全局字典，字典的key是线程/协程的id（`get_indent`的返回值），字典的value是一个字典，保存线程/协程自己的变量。\n",
    "\n",
    "看代码："
   ]
  },
  {
   "cell_type": "code",
   "execution_count": null,
   "metadata": {},
   "outputs": [],
   "source": [
    "# Since each thread has its own greenlet we can just use those as identifiers\n",
    "# for the context.  If greenlets are not available we fall back to the\n",
    "# current thread ident.\n",
    "try:\n",
    "    from greenlet import getcurrent as get_ident\n",
    "except ImportError:  # noqa\n",
    "    try:\n",
    "        from thread import get_ident  # noqa\n",
    "    except ImportError:  # noqa\n",
    "        try:\n",
    "            from _thread import get_ident  # noqa\n",
    "        except ImportError:  # noqa\n",
    "            from dummy_thread import get_ident  # noqa\n",
    "\n",
    "class Local(object):\n",
    "    __slots__ = ('__storage__', '__ident_func__')\n",
    "\n",
    "    def __init__(self):\n",
    "        object.__setattr__(self, '__storage__', {})\n",
    "        object.__setattr__(self, '__ident_func__', get_ident)\n",
    "\n",
    "    def __iter__(self):\n",
    "        return iter(self.__storage__.items())\n",
    "\n",
    "    def __call__(self, proxy):\n",
    "        \"\"\"Create a proxy for a name.\"\"\"\n",
    "        return LocalProxy(self, proxy)\n",
    "\n",
    "    def __release_local__(self):\n",
    "        self.__storage__.pop(self.__ident_func__(), None)\n",
    "\n",
    "    def __getattr__(self, name):\n",
    "        try:\n",
    "            return self.__storage__[self.__ident_func__()][name]\n",
    "        except KeyError:\n",
    "            raise AttributeError(name)\n",
    "\n",
    "    def __setattr__(self, name, value):\n",
    "        ident = self.__ident_func__()\n",
    "        storage = self.__storage__\n",
    "        try:\n",
    "            storage[ident][name] = value\n",
    "        except KeyError:\n",
    "            storage[ident] = {name: value}\n",
    "\n",
    "    def __delattr__(self, name):\n",
    "        try:\n",
    "            del self.__storage__[self.__ident_func__()][name]\n",
    "        except KeyError:\n",
    "            raise AttributeError(name)"
   ]
  },
  {
   "cell_type": "markdown",
   "metadata": {},
   "source": [
    "## 相关资料\n",
    "* [为什么用__slots__](https://stackoverflow.com/questions/472000/usage-of-slots)\n",
    "* [什么是greenlet?](https://greenlet.readthedocs.io/en/latest/#indices-and-tables)\n",
    "* [深入理解 Python 中的 ThreadLocal 变量](https://juejin.im/entry/58217e100ce46300589e02c7)"
   ]
  },
  {
   "cell_type": "code",
   "execution_count": 27,
   "metadata": {},
   "outputs": [
    {
     "name": "stdout",
     "output_type": "stream",
     "text": [
      "12\n",
      "56\n",
      "34\n",
      "78\n"
     ]
    }
   ],
   "source": [
    "from greenlet import greenlet\n",
    "\n",
    "def test1():\n",
    "    print(12)\n",
    "    gr2.switch()\n",
    "    print(34)\n",
    "    gr2.switch()\n",
    "\n",
    "def test2():\n",
    "    print(56)\n",
    "    gr1.switch()\n",
    "    print(78)\n",
    "\n",
    "gr1 = greenlet(test1)\n",
    "gr2 = greenlet(test2)\n",
    "gr1.switch()"
   ]
  },
  {
   "cell_type": "code",
   "execution_count": 29,
   "metadata": {},
   "outputs": [
    {
     "name": "stdout",
     "output_type": "stream",
     "text": [
      "1593933394296 1593933396272 1593933396728\n",
      "1593933396272 1593933394296\n",
      "1593933396728 1593933394296\n",
      "hehe back to main\n"
     ]
    }
   ],
   "source": [
    "import greenlet\n",
    "def test1(x, y):\n",
    "    print(id(greenlet.getcurrent()), id(greenlet.getcurrent().parent)) # 40240272 40239952\n",
    "    z = gr2.switch(x+y)\n",
    "    print('back z', z)\n",
    "\n",
    "def test2(u):\n",
    "    print(id(greenlet.getcurrent()), id(greenlet.getcurrent().parent)) # 40240352 40239952\n",
    "    return 'hehe'\n",
    "\n",
    "gr1 = greenlet.greenlet(test1)\n",
    "gr2 = greenlet.greenlet(test2)\n",
    "print(id(greenlet.getcurrent()), id(gr1), id(gr2))    # 40239952, 40240272, 40240352\n",
    "print(gr1.switch(\"hello\", \" world\"), 'back to main')    # hehe back to main"
   ]
  }
 ],
 "metadata": {
  "kernelspec": {
   "display_name": "Python 3",
   "language": "python",
   "name": "python3"
  },
  "language_info": {
   "codemirror_mode": {
    "name": "ipython",
    "version": 3
   },
   "file_extension": ".py",
   "mimetype": "text/x-python",
   "name": "python",
   "nbconvert_exporter": "python",
   "pygments_lexer": "ipython3",
   "version": "3.6.6"
  }
 },
 "nbformat": 4,
 "nbformat_minor": 2
}
